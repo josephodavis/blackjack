{
 "cells": [
  {
   "metadata": {},
   "cell_type": "markdown",
   "source": "Colab for the training: https://colab.research.google.com/drive/1XyFxMgAlhdsNsfg4hcT28mg9kBaZWWWd?pli=1#scrollTo=9G0EFjVxQgF5",
   "id": "31a8087f29bbbea4"
  }
 ],
 "metadata": {
  "kernelspec": {
   "display_name": "Python 3",
   "language": "python",
   "name": "python3"
  },
  "language_info": {
   "codemirror_mode": {
    "name": "ipython",
    "version": 2
   },
   "file_extension": ".py",
   "mimetype": "text/x-python",
   "name": "python",
   "nbconvert_exporter": "python",
   "pygments_lexer": "ipython2",
   "version": "2.7.6"
  }
 },
 "nbformat": 4,
 "nbformat_minor": 5
}
